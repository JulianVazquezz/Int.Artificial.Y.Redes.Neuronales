{
  "nbformat": 4,
  "nbformat_minor": 0,
  "metadata": {
    "colab": {
      "name": "Untitled1.ipynb",
      "provenance": [],
      "collapsed_sections": [],
      "authorship_tag": "ABX9TyOMWbVNi3u+0jS+V0kHKsPf",
      "include_colab_link": true
    },
    "kernelspec": {
      "name": "python3",
      "display_name": "Python 3"
    },
    "language_info": {
      "name": "python"
    }
  },
  "cells": [
    {
      "cell_type": "markdown",
      "metadata": {
        "id": "view-in-github",
        "colab_type": "text"
      },
      "source": [
        "<a href=\"https://colab.research.google.com/github/JulianVazquezz/JulianVazquez/blob/main/IA_Ejercicio2_JulianVazquez_1865137.ipynb\" target=\"_parent\"><img src=\"https://colab.research.google.com/assets/colab-badge.svg\" alt=\"Open In Colab\"/></a>"
      ]
    },
    {
      "cell_type": "code",
      "source": [
        "\"\"\"\n",
        "Actividad 2 Ejercicios Basicos de Python \n",
        "Julian Azael Vazquez Alvarez 1865137 \n",
        "Jueves N1 N2 N3\n",
        "\"\"\""
      ],
      "metadata": {
        "colab": {
          "base_uri": "https://localhost:8080/",
          "height": 35
        },
        "id": "OxJP6tIz2qli",
        "outputId": "ed61a28b-6639-427e-c3c6-8bc56d051ef0"
      },
      "execution_count": 2,
      "outputs": [
        {
          "output_type": "execute_result",
          "data": {
            "application/vnd.google.colaboratory.intrinsic+json": {
              "type": "string"
            },
            "text/plain": [
              "'\\nActividad 2 Ejercicios Basicos de Python \\nJulian Azael Vazquez Alvarez 1865137 \\nJueves N1 N2 N3\\n'"
            ]
          },
          "metadata": {},
          "execution_count": 2
        }
      ]
    },
    {
      "cell_type": "code",
      "source": [
        "#Escribe una funcion que regrese el ultimo elemento de una lista y que revierta el orden de la lista e imprima la lista revertida\n",
        "Idiomas = [\"Español\", \"Ingles\", \"Aleman\", \"Portugues\"]\n",
        "print(Idiomas[-1])\n",
        "Idiomas.reverse() # Se invierte la fila \n",
        "print(\"Lista invertida:\") #Se imprime la lista invertida\n",
        "for x in Idiomas: \n",
        " print(x)\n"
      ],
      "metadata": {
        "colab": {
          "base_uri": "https://localhost:8080/"
        },
        "id": "MksaTa322-yl",
        "outputId": "5602f400-fbc9-477e-87ad-48088239e984"
      },
      "execution_count": 10,
      "outputs": [
        {
          "output_type": "stream",
          "name": "stdout",
          "text": [
            "Portugues\n",
            "Lista invertida:\n",
            "Portugues\n",
            "Aleman\n",
            "Ingles\n",
            "Español\n"
          ]
        }
      ]
    }
  ]
}