{
  "nbformat": 4,
  "nbformat_minor": 0,
  "metadata": {
    "colab": {
      "name": "Untitled1.ipynb",
      "provenance": [],
      "collapsed_sections": [],
      "authorship_tag": "ABX9TyNgcwTA0+y0fTk9K2X9xRN4",
      "include_colab_link": true
    },
    "kernelspec": {
      "name": "python3",
      "display_name": "Python 3"
    },
    "language_info": {
      "name": "python"
    }
  },
  "cells": [
    {
      "cell_type": "markdown",
      "metadata": {
        "id": "view-in-github",
        "colab_type": "text"
      },
      "source": [
        "<a href=\"https://colab.research.google.com/github/JulianVazquezz/JulianVazquez/blob/main/IA_Ejercicio1_JulianVazquez_1865137.ipynb\" target=\"_parent\"><img src=\"https://colab.research.google.com/assets/colab-badge.svg\" alt=\"Open In Colab\"/></a>"
      ]
    },
    {
      "cell_type": "code",
      "source": [
        "\"\"\"\n",
        "Actividad 2 Ejercicios Basicos de Python \n",
        "Julian Azael Vazquez Alvarez 1865137 \n",
        "Jueves N1 N2 N3\n",
        "\"\"\""
      ],
      "metadata": {
        "colab": {
          "base_uri": "https://localhost:8080/",
          "height": 35
        },
        "id": "OxJP6tIz2qli",
        "outputId": "ed61a28b-6639-427e-c3c6-8bc56d051ef0"
      },
      "execution_count": 2,
      "outputs": [
        {
          "output_type": "execute_result",
          "data": {
            "application/vnd.google.colaboratory.intrinsic+json": {
              "type": "string"
            },
            "text/plain": [
              "'\\nActividad 2 Ejercicios Basicos de Python \\nJulian Azael Vazquez Alvarez 1865137 \\nJueves N1 N2 N3\\n'"
            ]
          },
          "metadata": {},
          "execution_count": 2
        }
      ]
    },
    {
      "cell_type": "code",
      "source": [
        "#Escriba un programa que le pida al usuario por su nombre y que lo salude con su nombre, excepto si se llama \"Ana\", \"Pedro\", y \"Juan\".\n",
        "nombre = input(\"Buen dia usuario\")\n",
        "if nombre == (\"Ana\"):\n",
        " print (\"Error!\")\n",
        "elif nombre == (\"Juan\"):#Si se llama Juan no se imprime\n",
        " print(\"Error!\")\n",
        "elif nombre == (\"Pedro\"):#Si se llama Pedro no se imprime\n",
        " print(\"Error!\")\n",
        "else: # Si no se ingresa ningun nombre de estos, se imprime\n",
        " print(\"Saludos\" + nombre)\n",
        "   "
      ],
      "metadata": {
        "id": "MJSkel4aCb-K"
      },
      "execution_count": null,
      "outputs": []
    },
    {
      "cell_type": "code",
      "source": [
        "#Escribe una funcion que regrese el ultimo elemento de una lista y que revierta el orden de la lista e imprima la lista revertida.\n",
        "Idiomas = [\"Español\", \"Ingles\", \"Aleman\", \"Portugues\"]\n",
        "print(Idiomas[-1])\n",
        "Idiomas.reverse() #Se invierte la fila\n",
        "print(\"Lista invertida\") #Se imprime la lista invertida\n",
        "for x in Idiomas:\n",
        " print(x)"
      ],
      "metadata": {
        "colab": {
          "base_uri": "https://localhost:8080/"
        },
        "id": "rWLVj3soFUD4",
        "outputId": "50e7539c-24f2-4fb7-aa05-8dae47d9569b"
      },
      "execution_count": 17,
      "outputs": [
        {
          "output_type": "stream",
          "name": "stdout",
          "text": [
            "Portugues\n",
            "Lista invertida\n",
            "Portugues\n",
            "Aleman\n",
            "Ingles\n",
            "Español\n"
          ]
        }
      ]
    },
    {
      "cell_type": "code",
      "source": [
        "#Escribe una funcion que toma una lista de strings y los imprima linea por linea en un marco rectangular. Por ejemplo la lista [\"Hola\", \"a\", \"todos\", \"esto\", \"es\", \"un\", \"marco\"]se imprime:\n",
        "lista = [\"Hola\", \"mi\", \"nombre\", \"es\", \"Julian\", \"Vazquez\",]\n",
        "def marco(): #Funcion para el marco\n",
        " print(\"*******\")\n",
        " marco()\n",
        " for x in lista: \n",
        "  print(\"*\" + x + \"*\")# Se juntan las filas\n",
        "  marco() \n"
      ],
      "metadata": {
        "id": "U-IADw3DGOaY"
      },
      "execution_count": 24,
      "outputs": []
    }
  ]
}